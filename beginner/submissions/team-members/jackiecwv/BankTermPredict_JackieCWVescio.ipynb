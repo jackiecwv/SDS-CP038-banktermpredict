{
 "cells": [
  {
   "cell_type": "markdown",
   "id": "598b14b9",
   "metadata": {},
   "source": [
    "# **BankTermPredict Project - Jackie CW Vescio**\n",
    "\n",
    "- Scope: **BankTermPredict** is a supervised learning project focused on predicting whether a client will subscribe to a term deposit based on marketing campaign data collected by a Portuguese banking institution.\n",
    "\n",
    "- Purpose: The classification goal is to predict if the client will subscribe (yes/no) a term deposit (variable y)."
   ]
  },
  {
   "cell_type": "markdown",
   "id": "2fa368a1",
   "metadata": {},
   "source": [
    "# Bank Marketing Dataset – Variables Table\n",
    "\n",
    "| Variable Name  | Role    | Type        | Demographic        | Description                                                                                                                        | Units   | Missing Values |\n",
    "|----------------|---------|-------------|--------------------|------------------------------------------------------------------------------------------------------------------------------------|---------|----------------|\n",
    "| age            | Feature | Integer     | Age                | Client’s age                                                                                                                       |         | no             |\n",
    "| job            | Feature | Categorical | Occupation         | Type of job (`admin.`, `blue-collar`, `entrepreneur`, `housemaid`, `management`, `retired`, `self-employed`, `services`, `student`, `technician`, `unemployed`, `unknown`) |         | no             |\n",
    "| marital        | Feature | Categorical | Marital Status     | Marital status (`divorced`, `married`, `single`, `unknown`; note: `divorced` means divorced or widowed)                            |         | no             |\n",
    "| education      | Feature | Categorical | Education Level    | Education level (`basic.4y`, `basic.6y`, `basic.9y`, `high.school`, `illiterate`, `professional.course`, `university.degree`, `unknown`) |         | no             |\n",
    "| default        | Feature | Binary      |                    | Has credit in default?                                                                                                             |         | no             |\n",
    "| housing        | Feature | Binary      |                    | Has housing loan?                                                                                                                  |         | no             |\n",
    "| loan           | Feature | Binary      |                    | Has personal loan?                                                                                                                 |         | no             |\n",
    "| contact        | Feature | Categorical |                    | Contact communication type (`cellular`, `telephone`)                                                                               |         | yes            |\n",
    "| day_of_week    | Feature | Categorical |                    | Last contact day of the week                                                                                                       |         | no             |\n",
    "| month          | Feature | Categorical |                    | Last contact month of year (`jan`, `feb`, …, `dec`)                                                                                |         | no             |\n",
    "| duration       | Feature | Integer     |                    | Last contact duration in seconds. **Important:** Strongly affects target and should only be used for benchmarking—not realistic modeling. | seconds | no             |\n",
    "| campaign       | Feature | Integer     |                    | Number of contacts performed during this campaign for this client (includes last contact)                                          |         | no             |\n",
    "| pdays          | Feature | Integer     |                    | Number of days since client was last contacted from previous campaign (`-1` means not contacted before)                            |         | yes            |\n",
    "| previous       | Feature | Integer     |                    | Number of contacts performed before this campaign for this client                                                                  |         | no             |\n",
    "| poutcome       | Feature | Categorical |                    | Outcome of the previous marketing campaign (`failure`, `nonexistent`, `success`)                                                   |         | yes            |\n",
    "| emp.var.rate   | Feature | Numeric     | Economic Indicator | Employment variation rate (quarterly)                                                                                              |         | no             |\n",
    "| cons.price.idx | Feature | Numeric     | Economic Indicator | Consumer Price Index (monthly)                                                                                                     |         | no             |\n",
    "| cons.conf.idx  | Feature | Numeric     | Economic Indicator | Consumer Confidence Index (monthly)                                                                                                |         | no             |\n",
    "| euribor3m      | Feature | Numeric     | Economic Indicator | Euribor 3-month rate (daily)                                                                                                       |         | no             |\n",
    "| nr.employed    | Feature | Numeric     | Economic Indicator | Number of employees (quarterly)                                                                                                    |         | no             |\n",
    "| y              | Target  | Binary      |                    | Has the client subscribed to a term deposit? (`yes` = 1, `no` = 0)                                                                 |         | no             |\n"
   ]
  },
  {
   "cell_type": "markdown",
   "id": "101cc4f9",
   "metadata": {},
   "source": [
    "**Note:**  \n",
    "The original UCI Bank Marketing documentation describes 41 variables because it combines details from multiple versions of the dataset (`bank.csv`, `bank-full.csv`, and `bank-additional.csv`).  \n",
    "This project uses the *bank-additional-full.csv* file, which contains **21 variables** (20 features + 1 target).  \n",
    "The remaining variables listed in the documentation are only present in the other dataset variants and are not available here.\n"
   ]
  },
  {
   "cell_type": "markdown",
   "id": "d0e2e394",
   "metadata": {},
   "source": [
    "## Part 1 - Data Preprocessing"
   ]
  },
  {
   "cell_type": "markdown",
   "id": "0e63ab9d",
   "metadata": {},
   "source": [
    "### Importing the dataset"
   ]
  },
  {
   "cell_type": "code",
   "execution_count": 1,
   "id": "8ab09653",
   "metadata": {},
   "outputs": [
    {
     "data": {
      "text/plain": [
       "WindowsPath('data/bank-full.csv')"
      ]
     },
     "execution_count": 1,
     "metadata": {},
     "output_type": "execute_result"
    }
   ],
   "source": [
    "# Choose and define path (adjust if needed) for loading the dataset\n",
    "from pathlib import Path\n",
    "\n",
    "# If your notebook is in /notebooks, this is usually correct:\n",
    "# CSV = Path(\"../data/bank-full.csv\")\n",
    "\n",
    "# If running from the repo root instead, uncomment this:\n",
    "CSV = Path(\"data/bank-full.csv\")\n",
    "\n",
    "assert CSV.exists(), f\"Not found: {CSV.resolve()}\"\n",
    "CSV\n"
   ]
  },
  {
   "cell_type": "code",
   "execution_count": null,
   "id": "1ec0a4f6",
   "metadata": {},
   "outputs": [
    {
     "name": "stdout",
     "output_type": "stream",
     "text": [
      "Shape: (45211, 17)\n",
      "\n",
      "Info:\n",
      "<class 'pandas.core.frame.DataFrame'>\n",
      "RangeIndex: 45211 entries, 0 to 45210\n",
      "Data columns (total 17 columns):\n",
      " #   Column     Non-Null Count  Dtype \n",
      "---  ------     --------------  ----- \n",
      " 0   age        45211 non-null  int64 \n",
      " 1   job        45211 non-null  object\n",
      " 2   marital    45211 non-null  object\n",
      " 3   education  45211 non-null  object\n",
      " 4   default    45211 non-null  object\n",
      " 5   balance    45211 non-null  int64 \n",
      " 6   housing    45211 non-null  object\n",
      " 7   loan       45211 non-null  object\n",
      " 8   contact    45211 non-null  object\n",
      " 9   day        45211 non-null  int64 \n",
      " 10  month      45211 non-null  object\n",
      " 11  duration   45211 non-null  int64 \n",
      " 12  campaign   45211 non-null  int64 \n",
      " 13  pdays      45211 non-null  int64 \n",
      " 14  previous   45211 non-null  int64 \n",
      " 15  poutcome   45211 non-null  object\n",
      " 16  y          45211 non-null  object\n",
      "dtypes: int64(7), object(10)\n",
      "memory usage: 5.9+ MB\n",
      "None\n"
     ]
    }
   ],
   "source": [
    "# Load Advanced dataset and review Shape and Info of dataset\n",
    "\n",
    "import pandas as pd\n",
    "pd.set_option(\"display.max_columns\", None)\n",
    "\n",
    "dataset = pd.read_csv(CSV, sep=\";\")\n",
    "\n",
    "print(\"Shape:\", dataset.shape)   # should be around (45211, 17) or similar\n",
    "print(\"\\nInfo:\")\n",
    "print(dataset.info())\n"
   ]
  },
  {
   "cell_type": "code",
   "execution_count": 3,
   "id": "6909c91c",
   "metadata": {},
   "outputs": [
    {
     "data": {
      "text/html": [
       "<div>\n",
       "<style scoped>\n",
       "    .dataframe tbody tr th:only-of-type {\n",
       "        vertical-align: middle;\n",
       "    }\n",
       "\n",
       "    .dataframe tbody tr th {\n",
       "        vertical-align: top;\n",
       "    }\n",
       "\n",
       "    .dataframe thead th {\n",
       "        text-align: right;\n",
       "    }\n",
       "</style>\n",
       "<table border=\"1\" class=\"dataframe\">\n",
       "  <thead>\n",
       "    <tr style=\"text-align: right;\">\n",
       "      <th></th>\n",
       "      <th>age</th>\n",
       "      <th>job</th>\n",
       "      <th>marital</th>\n",
       "      <th>education</th>\n",
       "      <th>default</th>\n",
       "      <th>balance</th>\n",
       "      <th>housing</th>\n",
       "      <th>loan</th>\n",
       "      <th>contact</th>\n",
       "      <th>day</th>\n",
       "      <th>month</th>\n",
       "      <th>duration</th>\n",
       "      <th>campaign</th>\n",
       "      <th>pdays</th>\n",
       "      <th>previous</th>\n",
       "      <th>poutcome</th>\n",
       "      <th>y</th>\n",
       "    </tr>\n",
       "  </thead>\n",
       "  <tbody>\n",
       "    <tr>\n",
       "      <th>0</th>\n",
       "      <td>58</td>\n",
       "      <td>management</td>\n",
       "      <td>married</td>\n",
       "      <td>tertiary</td>\n",
       "      <td>no</td>\n",
       "      <td>2143</td>\n",
       "      <td>yes</td>\n",
       "      <td>no</td>\n",
       "      <td>unknown</td>\n",
       "      <td>5</td>\n",
       "      <td>may</td>\n",
       "      <td>261</td>\n",
       "      <td>1</td>\n",
       "      <td>-1</td>\n",
       "      <td>0</td>\n",
       "      <td>unknown</td>\n",
       "      <td>no</td>\n",
       "    </tr>\n",
       "    <tr>\n",
       "      <th>1</th>\n",
       "      <td>44</td>\n",
       "      <td>technician</td>\n",
       "      <td>single</td>\n",
       "      <td>secondary</td>\n",
       "      <td>no</td>\n",
       "      <td>29</td>\n",
       "      <td>yes</td>\n",
       "      <td>no</td>\n",
       "      <td>unknown</td>\n",
       "      <td>5</td>\n",
       "      <td>may</td>\n",
       "      <td>151</td>\n",
       "      <td>1</td>\n",
       "      <td>-1</td>\n",
       "      <td>0</td>\n",
       "      <td>unknown</td>\n",
       "      <td>no</td>\n",
       "    </tr>\n",
       "    <tr>\n",
       "      <th>2</th>\n",
       "      <td>33</td>\n",
       "      <td>entrepreneur</td>\n",
       "      <td>married</td>\n",
       "      <td>secondary</td>\n",
       "      <td>no</td>\n",
       "      <td>2</td>\n",
       "      <td>yes</td>\n",
       "      <td>yes</td>\n",
       "      <td>unknown</td>\n",
       "      <td>5</td>\n",
       "      <td>may</td>\n",
       "      <td>76</td>\n",
       "      <td>1</td>\n",
       "      <td>-1</td>\n",
       "      <td>0</td>\n",
       "      <td>unknown</td>\n",
       "      <td>no</td>\n",
       "    </tr>\n",
       "    <tr>\n",
       "      <th>3</th>\n",
       "      <td>47</td>\n",
       "      <td>blue-collar</td>\n",
       "      <td>married</td>\n",
       "      <td>unknown</td>\n",
       "      <td>no</td>\n",
       "      <td>1506</td>\n",
       "      <td>yes</td>\n",
       "      <td>no</td>\n",
       "      <td>unknown</td>\n",
       "      <td>5</td>\n",
       "      <td>may</td>\n",
       "      <td>92</td>\n",
       "      <td>1</td>\n",
       "      <td>-1</td>\n",
       "      <td>0</td>\n",
       "      <td>unknown</td>\n",
       "      <td>no</td>\n",
       "    </tr>\n",
       "    <tr>\n",
       "      <th>4</th>\n",
       "      <td>33</td>\n",
       "      <td>unknown</td>\n",
       "      <td>single</td>\n",
       "      <td>unknown</td>\n",
       "      <td>no</td>\n",
       "      <td>1</td>\n",
       "      <td>no</td>\n",
       "      <td>no</td>\n",
       "      <td>unknown</td>\n",
       "      <td>5</td>\n",
       "      <td>may</td>\n",
       "      <td>198</td>\n",
       "      <td>1</td>\n",
       "      <td>-1</td>\n",
       "      <td>0</td>\n",
       "      <td>unknown</td>\n",
       "      <td>no</td>\n",
       "    </tr>\n",
       "  </tbody>\n",
       "</table>\n",
       "</div>"
      ],
      "text/plain": [
       "   age           job  marital  education default  balance housing loan  \\\n",
       "0   58    management  married   tertiary      no     2143     yes   no   \n",
       "1   44    technician   single  secondary      no       29     yes   no   \n",
       "2   33  entrepreneur  married  secondary      no        2     yes  yes   \n",
       "3   47   blue-collar  married    unknown      no     1506     yes   no   \n",
       "4   33       unknown   single    unknown      no        1      no   no   \n",
       "\n",
       "   contact  day month  duration  campaign  pdays  previous poutcome   y  \n",
       "0  unknown    5   may       261         1     -1         0  unknown  no  \n",
       "1  unknown    5   may       151         1     -1         0  unknown  no  \n",
       "2  unknown    5   may        76         1     -1         0  unknown  no  \n",
       "3  unknown    5   may        92         1     -1         0  unknown  no  \n",
       "4  unknown    5   may       198         1     -1         0  unknown  no  "
      ]
     },
     "execution_count": 3,
     "metadata": {},
     "output_type": "execute_result"
    }
   ],
   "source": [
    "dataset.head()\n"
   ]
  },
  {
   "cell_type": "code",
   "execution_count": 4,
   "id": "37aa9dc3",
   "metadata": {},
   "outputs": [
    {
     "name": "stdout",
     "output_type": "stream",
     "text": [
      "Shape:\n",
      "(45211, 17)\n"
     ]
    }
   ],
   "source": [
    "# Show dataset shape: amount of rows and columns\n",
    "\n",
    "print(\"Shape:\")\n",
    "print(dataset.shape)"
   ]
  },
  {
   "cell_type": "code",
   "execution_count": 5,
   "id": "b130706a",
   "metadata": {},
   "outputs": [
    {
     "name": "stdout",
     "output_type": "stream",
     "text": [
      "Info:\n",
      "<class 'pandas.core.frame.DataFrame'>\n",
      "RangeIndex: 45211 entries, 0 to 45210\n",
      "Data columns (total 17 columns):\n",
      " #   Column     Non-Null Count  Dtype \n",
      "---  ------     --------------  ----- \n",
      " 0   age        45211 non-null  int64 \n",
      " 1   job        45211 non-null  object\n",
      " 2   marital    45211 non-null  object\n",
      " 3   education  45211 non-null  object\n",
      " 4   default    45211 non-null  object\n",
      " 5   balance    45211 non-null  int64 \n",
      " 6   housing    45211 non-null  object\n",
      " 7   loan       45211 non-null  object\n",
      " 8   contact    45211 non-null  object\n",
      " 9   day        45211 non-null  int64 \n",
      " 10  month      45211 non-null  object\n",
      " 11  duration   45211 non-null  int64 \n",
      " 12  campaign   45211 non-null  int64 \n",
      " 13  pdays      45211 non-null  int64 \n",
      " 14  previous   45211 non-null  int64 \n",
      " 15  poutcome   45211 non-null  object\n",
      " 16  y          45211 non-null  object\n",
      "dtypes: int64(7), object(10)\n",
      "memory usage: 5.9+ MB\n"
     ]
    }
   ],
   "source": [
    "# Show dataset info\n",
    "\n",
    "print(\"Info:\")\n",
    "dataset.info()"
   ]
  },
  {
   "cell_type": "code",
   "execution_count": null,
   "id": "b11c7688",
   "metadata": {},
   "outputs": [],
   "source": []
  }
 ],
 "metadata": {
  "kernelspec": {
   "display_name": "banktermpredict-py310",
   "language": "python",
   "name": "python3"
  },
  "language_info": {
   "codemirror_mode": {
    "name": "ipython",
    "version": 3
   },
   "file_extension": ".py",
   "mimetype": "text/x-python",
   "name": "python",
   "nbconvert_exporter": "python",
   "pygments_lexer": "ipython3",
   "version": "3.10.18"
  }
 },
 "nbformat": 4,
 "nbformat_minor": 5
}
